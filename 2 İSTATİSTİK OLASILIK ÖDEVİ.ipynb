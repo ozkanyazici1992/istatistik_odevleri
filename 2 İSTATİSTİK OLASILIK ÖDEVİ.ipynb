{
 "cells": [
  {
   "cell_type": "markdown",
   "metadata": {},
   "source": [
    "ÖZKAN YAZICI İSTATİSTİK OLASILIK ÖDEVİ"
   ]
  },
  {
   "cell_type": "markdown",
   "metadata": {},
   "source": [
    "1.A şirketinin sattığı bilgisayarın bazılarının bozuk olduğu tespit edilmiştir. Bilgisyar üreten 3 şirket (A, B ve C) olduğunu varsayımı altında, bu şirketlerin bilgisayar üretim miktarı ve bozuk üretim olasılıkları şu şekildedir:\n",
    "\n",
    "Toplam Üretim Yüzdesi P(A)=0.40 P(B)=0.40 P(C)=0.20\n",
    "\n",
    "Hatalı Üretim Olasılığı\n",
    "\n",
    "P(D|A)=0.015 P(D|B)=0.020 P(D|C)=0.010\n",
    "\n",
    "Rastgele seçilen bir bozuk bir bilgisayarın B şirketi tarafından üretilme olasılığı nedir?"
   ]
  },
  {
   "cell_type": "code",
   "execution_count": 1,
   "metadata": {},
   "outputs": [
    {
     "name": "stdout",
     "output_type": "stream",
     "text": [
      "0.03200000000000001\n",
      "0.0006400000000000002\n"
     ]
    }
   ],
   "source": [
    "a = 0.40 # P(A)\n",
    "b = 0.40 # P(B)\n",
    "c = 0.20 # P(C)\n",
    "a1 = 0.015 # P(D|A)\n",
    "b1 = 0.020 # P(D|B)\n",
    "c1 = 0.010 # P(D|C)\n",
    "# Rasgele seçilen bilgisayarın B olma olasılığı\n",
    "print(a*b*c)\n",
    "# Seçilen bilgisayarın bozuk olma ihtimali\n",
    "print(a*b*c*b1)"
   ]
  }
 ],
 "metadata": {
  "kernelspec": {
   "display_name": "Python 3",
   "language": "python",
   "name": "python3"
  },
  "language_info": {
   "codemirror_mode": {
    "name": "ipython",
    "version": 3
   },
   "file_extension": ".py",
   "mimetype": "text/x-python",
   "name": "python",
   "nbconvert_exporter": "python",
   "pygments_lexer": "ipython3",
   "version": "3.7.4"
  }
 },
 "nbformat": 4,
 "nbformat_minor": 2
}
