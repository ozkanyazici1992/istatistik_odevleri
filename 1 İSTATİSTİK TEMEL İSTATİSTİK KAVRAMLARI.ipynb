{
 "cells": [
  {
   "cell_type": "markdown",
   "metadata": {},
   "source": [
    "ÖZKAN YAZICI İSTATİSTİK TEMEL İSTATİSTİK KAVRAMLARI ÖDEVİ"
   ]
  },
  {
   "cell_type": "markdown",
   "metadata": {},
   "source": [
    "1.numpy kütüphanesini kullanarak üreteceğiniz 3 farklı veri aracılığı ile merkezi eğilim ve dağılım ölçümlerini hem yukarıda verilen matematiksel formülle hem de python'da hazır bulunan (built-in) kodlar aracılığıyla analiz edin!!!"
   ]
  },
  {
   "cell_type": "code",
   "execution_count": 1,
   "metadata": {},
   "outputs": [],
   "source": [
    "import pandas as pd\n",
    "import numpy as np\n",
    "import statistics"
   ]
  },
  {
   "cell_type": "code",
   "execution_count": 2,
   "metadata": {},
   "outputs": [
    {
     "name": "stdout",
     "output_type": "stream",
     "text": [
      "[115.84050388 102.34971554 120.20992226 115.64299169 122.73736137\n",
      " 102.49911683 102.10018724 101.05875716 112.29703065 110.68681976\n",
      " 112.696064   108.23089071 120.16171799 122.38054939 119.26148804\n",
      " 112.90145193 101.647144   108.51609075 124.41682007 119.07985998\n",
      " 103.50895246 111.19350669 119.24950042 112.44594822 111.727917\n",
      " 121.89832653 115.79721095 121.81656727 125.40771796 114.02470719\n",
      " 104.29885406 110.88748925 119.74370321 113.62254169  96.17588842\n",
      " 122.51445118 106.51688688  99.53960674 111.7212327  114.06091738\n",
      " 112.19731498 120.06352553 129.81060211 116.67940436 116.35997427\n",
      " 128.54201476 106.29588372 112.92380436 113.50048228 109.870196\n",
      " 120.47295461 121.34133446 109.16875887 120.88579613 112.8042734\n",
      " 105.17316445 110.33778046 103.35356444 106.00315436 114.43817673\n",
      " 109.24497023 110.1771227  105.39328531  98.04659979 105.75049104\n",
      " 105.958612   102.77083365 120.47816433 111.01403803  98.33204875\n",
      " 105.87117446 108.61965499 117.7469216  114.49348521  91.22667456\n",
      " 126.487686   116.61563018 109.84155109 103.59696132 104.7505536\n",
      " 125.07089205 115.70684997 107.82341375 114.9911854  118.91175694\n",
      " 104.23407125  93.45820137 115.73993716  98.65255304 121.44915789\n",
      " 120.56473008 110.26333757 112.4501922  113.21096131 102.92716043\n",
      " 105.82374909 113.67875784  95.19287294 119.16632797 115.01086226\n",
      "  74.12774801  71.69525622  65.52922273  67.03589312  63.046144\n",
      "  66.76373764  64.2659988   55.91976361  64.71243985  73.66667268\n",
      "  66.20514864  67.46469769  57.29215835  79.91605019  68.93458291\n",
      "  71.58753429  65.54388053  69.19884893  59.89689272  68.09864868\n",
      "  71.72617388  75.07935612  58.77141173  65.25789034  64.87107563\n",
      "  72.28926663  64.39748755  70.92066604  72.88517109  59.29517883\n",
      "  75.63130264  76.16700814  56.1298991   65.86669028  67.65102047\n",
      "  76.10490382  69.48436392  71.2219271   65.7503093   70.12168394\n",
      "  67.67987871  63.56765498  76.73212052  66.12338484  66.98704122\n",
      "  69.11104785  75.8473874   62.18540634  66.45671091  75.91521683\n",
      "  72.60188423  68.34787899  56.84200166  63.46521434  66.8276074\n",
      "  66.05825875  74.17800715  63.18779428  68.92877581  74.74373662\n",
      "  68.29326387  61.89241147  63.80242918  68.444534    64.63429372\n",
      "  54.81035928  72.18391557  64.35927085  60.35332802  71.69364365\n",
      "  72.26199917  67.15911925  76.26390472  74.53871299  65.96929665\n",
      "  60.41721177  69.95849167  65.64872746  84.4506358   70.81780769\n",
      "  68.90176876  61.93881128  70.40757206  72.19866356  69.84373386\n",
      "  70.47280515  82.7311727   68.04675739  73.41835561  79.05160749\n",
      "  75.93391421  69.85005492  60.64076659  64.86992222  70.01230498\n",
      "  68.61653313  69.53251875  63.36566949  50.91464558  73.61792629]\n"
     ]
    }
   ],
   "source": [
    "puanlar=np.append(np.random.normal(112, 8, 100), np.random.normal(68, 6, 100))\n",
    "print(puanlar)"
   ]
  },
  {
   "cell_type": "code",
   "execution_count": 3,
   "metadata": {},
   "outputs": [
    {
     "data": {
      "text/plain": [
       "90.05230987435145"
      ]
     },
     "execution_count": 3,
     "metadata": {},
     "output_type": "execute_result"
    }
   ],
   "source": [
    "sum(puanlar)/len(puanlar)\n",
    "# ORTALAMA"
   ]
  },
  {
   "cell_type": "code",
   "execution_count": 4,
   "metadata": {},
   "outputs": [
    {
     "name": "stdout",
     "output_type": "stream",
     "text": [
      "90.05230987435147\n"
     ]
    }
   ],
   "source": [
    "print(np.mean(puanlar))\n",
    "# ORTALAMA"
   ]
  },
  {
   "cell_type": "code",
   "execution_count": 5,
   "metadata": {},
   "outputs": [
    {
     "name": "stdout",
     "output_type": "stream",
     "text": [
      "87.83865518011632\n"
     ]
    }
   ],
   "source": [
    "print(np.median(puanlar))\n",
    "# MEDYAN"
   ]
  },
  {
   "cell_type": "code",
   "execution_count": 8,
   "metadata": {},
   "outputs": [
    {
     "ename": "StatisticsError",
     "evalue": "no unique mode; found 200 equally common values",
     "output_type": "error",
     "traceback": [
      "\u001b[1;31m---------------------------------------------------------------------------\u001b[0m",
      "\u001b[1;31mStatisticsError\u001b[0m                           Traceback (most recent call last)",
      "\u001b[1;32m<ipython-input-8-1f80cde5bcb9>\u001b[0m in \u001b[0;36m<module>\u001b[1;34m\u001b[0m\n\u001b[1;32m----> 1\u001b[1;33m \u001b[0mstatistics\u001b[0m\u001b[1;33m.\u001b[0m\u001b[0mmode\u001b[0m\u001b[1;33m(\u001b[0m\u001b[0mpuanlar\u001b[0m\u001b[1;33m)\u001b[0m\u001b[1;33m\u001b[0m\u001b[1;33m\u001b[0m\u001b[0m\n\u001b[0m\u001b[0;32m      2\u001b[0m \u001b[1;31m# MOD\u001b[0m\u001b[1;33m\u001b[0m\u001b[1;33m\u001b[0m\u001b[1;33m\u001b[0m\u001b[0m\n",
      "\u001b[1;32m~\\Anaconda3\\lib\\statistics.py\u001b[0m in \u001b[0;36mmode\u001b[1;34m(data)\u001b[0m\n\u001b[0;32m    504\u001b[0m     \u001b[1;32melif\u001b[0m \u001b[0mtable\u001b[0m\u001b[1;33m:\u001b[0m\u001b[1;33m\u001b[0m\u001b[1;33m\u001b[0m\u001b[0m\n\u001b[0;32m    505\u001b[0m         raise StatisticsError(\n\u001b[1;32m--> 506\u001b[1;33m                 \u001b[1;34m'no unique mode; found %d equally common values'\u001b[0m \u001b[1;33m%\u001b[0m \u001b[0mlen\u001b[0m\u001b[1;33m(\u001b[0m\u001b[0mtable\u001b[0m\u001b[1;33m)\u001b[0m\u001b[1;33m\u001b[0m\u001b[1;33m\u001b[0m\u001b[0m\n\u001b[0m\u001b[0;32m    507\u001b[0m                 )\n\u001b[0;32m    508\u001b[0m     \u001b[1;32melse\u001b[0m\u001b[1;33m:\u001b[0m\u001b[1;33m\u001b[0m\u001b[1;33m\u001b[0m\u001b[0m\n",
      "\u001b[1;31mStatisticsError\u001b[0m: no unique mode; found 200 equally common values"
     ]
    }
   ],
   "source": [
    "statistics.mode(puanlar)\n",
    "# MOD"
   ]
  },
  {
   "cell_type": "code",
   "execution_count": 9,
   "metadata": {},
   "outputs": [
    {
     "name": "stdout",
     "output_type": "stream",
     "text": [
      "531.4703389913825\n"
     ]
    }
   ],
   "source": [
    "print(np.var(puanlar, ddof=1))\n",
    "# VARYANS"
   ]
  },
  {
   "cell_type": "code",
   "execution_count": 10,
   "metadata": {},
   "outputs": [
    {
     "data": {
      "text/plain": [
       "23.05364047154771"
      ]
     },
     "execution_count": 10,
     "metadata": {},
     "output_type": "execute_result"
    }
   ],
   "source": [
    "np.std(puanlar, ddof=1)\n",
    "# STANDART SAPMA"
   ]
  },
  {
   "cell_type": "code",
   "execution_count": 11,
   "metadata": {},
   "outputs": [
    {
     "data": {
      "text/plain": [
       "23.0863007474076"
      ]
     },
     "execution_count": 11,
     "metadata": {},
     "output_type": "execute_result"
    }
   ],
   "source": [
    "532.9772821997527**0.5\n",
    "# STANDART SAPMA"
   ]
  },
  {
   "cell_type": "code",
   "execution_count": 12,
   "metadata": {
    "scrolled": true
   },
   "outputs": [
    {
     "data": {
      "text/plain": [
       "1.6301385508468023"
      ]
     },
     "execution_count": 12,
     "metadata": {},
     "output_type": "execute_result"
    }
   ],
   "source": [
    "np.std(puanlar ,ddof=1) / np.sqrt(len(puanlar))\n",
    "# STANDART HATA"
   ]
  },
  {
   "cell_type": "code",
   "execution_count": 13,
   "metadata": {},
   "outputs": [],
   "source": [
    "yas_dizi = np.array([18, 25, 22, 34, 26, 27, 19, 28, 30, 24])\n",
    "boy_dizi = np.array([1.81, 1.67, 1.71, 1.89, 1.79, 1.75, 1.80, 1.78, 1.89, 1.82])\n",
    "agirlik_dizi = np.array([81, 72, 74, 88, 82, 77, 78, 70, 90, 85])"
   ]
  },
  {
   "cell_type": "code",
   "execution_count": 14,
   "metadata": {},
   "outputs": [
    {
     "name": "stdout",
     "output_type": "stream",
     "text": [
      "25.3\n",
      "1.791\n",
      "79.7\n"
     ]
    }
   ],
   "source": [
    "print(np.mean(yas_dizi))\n",
    "print(np.mean(boy_dizi))\n",
    "print(np.mean(agirlik_dizi))"
   ]
  },
  {
   "cell_type": "code",
   "execution_count": 15,
   "metadata": {},
   "outputs": [
    {
     "name": "stdout",
     "output_type": "stream",
     "text": [
      "25.5\n",
      "1.795\n",
      "79.5\n"
     ]
    }
   ],
   "source": [
    "print(np.median(yas_dizi))\n",
    "print(np.median(boy_dizi))\n",
    "print(np.median(agirlik_dizi))"
   ]
  },
  {
   "cell_type": "code",
   "execution_count": 16,
   "metadata": {},
   "outputs": [
    {
     "ename": "StatisticsError",
     "evalue": "no unique mode; found 10 equally common values",
     "output_type": "error",
     "traceback": [
      "\u001b[1;31m---------------------------------------------------------------------------\u001b[0m",
      "\u001b[1;31mStatisticsError\u001b[0m                           Traceback (most recent call last)",
      "\u001b[1;32m<ipython-input-16-f6ca8131abf9>\u001b[0m in \u001b[0;36m<module>\u001b[1;34m\u001b[0m\n\u001b[1;32m----> 1\u001b[1;33m \u001b[0mstatistics\u001b[0m\u001b[1;33m.\u001b[0m\u001b[0mmode\u001b[0m\u001b[1;33m(\u001b[0m\u001b[0myas_dizi\u001b[0m\u001b[1;33m)\u001b[0m\u001b[1;33m\u001b[0m\u001b[1;33m\u001b[0m\u001b[0m\n\u001b[0m\u001b[0;32m      2\u001b[0m \u001b[0mstatistics\u001b[0m\u001b[1;33m.\u001b[0m\u001b[0mmode\u001b[0m\u001b[1;33m(\u001b[0m\u001b[0mboy_dizi\u001b[0m\u001b[1;33m)\u001b[0m\u001b[1;33m\u001b[0m\u001b[1;33m\u001b[0m\u001b[0m\n\u001b[0;32m      3\u001b[0m \u001b[0mstatistics\u001b[0m\u001b[1;33m.\u001b[0m\u001b[0mmode\u001b[0m\u001b[1;33m(\u001b[0m\u001b[0magirlik_dizi\u001b[0m\u001b[1;33m)\u001b[0m\u001b[1;33m\u001b[0m\u001b[1;33m\u001b[0m\u001b[0m\n",
      "\u001b[1;32m~\\Anaconda3\\lib\\statistics.py\u001b[0m in \u001b[0;36mmode\u001b[1;34m(data)\u001b[0m\n\u001b[0;32m    504\u001b[0m     \u001b[1;32melif\u001b[0m \u001b[0mtable\u001b[0m\u001b[1;33m:\u001b[0m\u001b[1;33m\u001b[0m\u001b[1;33m\u001b[0m\u001b[0m\n\u001b[0;32m    505\u001b[0m         raise StatisticsError(\n\u001b[1;32m--> 506\u001b[1;33m                 \u001b[1;34m'no unique mode; found %d equally common values'\u001b[0m \u001b[1;33m%\u001b[0m \u001b[0mlen\u001b[0m\u001b[1;33m(\u001b[0m\u001b[0mtable\u001b[0m\u001b[1;33m)\u001b[0m\u001b[1;33m\u001b[0m\u001b[1;33m\u001b[0m\u001b[0m\n\u001b[0m\u001b[0;32m    507\u001b[0m                 )\n\u001b[0;32m    508\u001b[0m     \u001b[1;32melse\u001b[0m\u001b[1;33m:\u001b[0m\u001b[1;33m\u001b[0m\u001b[1;33m\u001b[0m\u001b[0m\n",
      "\u001b[1;31mStatisticsError\u001b[0m: no unique mode; found 10 equally common values"
     ]
    }
   ],
   "source": [
    "statistics.mode(yas_dizi)\n",
    "statistics.mode(boy_dizi)\n",
    "statistics.mode(agirlik_dizi)"
   ]
  },
  {
   "cell_type": "code",
   "execution_count": null,
   "metadata": {},
   "outputs": [],
   "source": []
  },
  {
   "cell_type": "code",
   "execution_count": 17,
   "metadata": {},
   "outputs": [
    {
     "name": "stdout",
     "output_type": "stream",
     "text": [
      "23.78888888888889\n",
      "0.0048766666666666654\n",
      "45.12222222222222\n"
     ]
    }
   ],
   "source": [
    "print(np.var(yas_dizi, ddof=1))\n",
    "print(np.var(boy_dizi, ddof=1))\n",
    "print(np.var(agirlik_dizi, ddof=1))"
   ]
  },
  {
   "cell_type": "code",
   "execution_count": 18,
   "metadata": {},
   "outputs": [
    {
     "data": {
      "text/plain": [
       "4.877385456255112"
      ]
     },
     "execution_count": 18,
     "metadata": {},
     "output_type": "execute_result"
    }
   ],
   "source": [
    "np.std(yas_dizi, ddof=1)"
   ]
  },
  {
   "cell_type": "code",
   "execution_count": 19,
   "metadata": {},
   "outputs": [
    {
     "data": {
      "text/plain": [
       "0.06983313444681304"
      ]
     },
     "execution_count": 19,
     "metadata": {},
     "output_type": "execute_result"
    }
   ],
   "source": [
    "np.std(boy_dizi, ddof=1)"
   ]
  },
  {
   "cell_type": "code",
   "execution_count": 20,
   "metadata": {},
   "outputs": [
    {
     "data": {
      "text/plain": [
       "6.717307661721489"
      ]
     },
     "execution_count": 20,
     "metadata": {},
     "output_type": "execute_result"
    }
   ],
   "source": [
    "np.std(agirlik_dizi, ddof=1)"
   ]
  },
  {
   "cell_type": "code",
   "execution_count": 21,
   "metadata": {},
   "outputs": [
    {
     "data": {
      "text/plain": [
       "1.5423647068345698"
      ]
     },
     "execution_count": 21,
     "metadata": {},
     "output_type": "execute_result"
    }
   ],
   "source": [
    "np.std(yas_dizi ,ddof=1) / np.sqrt(len(yas_dizi))"
   ]
  },
  {
   "cell_type": "code",
   "execution_count": 22,
   "metadata": {},
   "outputs": [
    {
     "data": {
      "text/plain": [
       "0.022083176100069178"
      ]
     },
     "execution_count": 22,
     "metadata": {},
     "output_type": "execute_result"
    }
   ],
   "source": [
    "np.std(boy_dizi ,ddof=1) / np.sqrt(len(boy_dizi))"
   ]
  },
  {
   "cell_type": "code",
   "execution_count": 23,
   "metadata": {},
   "outputs": [
    {
     "data": {
      "text/plain": [
       "2.1241991955139756"
      ]
     },
     "execution_count": 23,
     "metadata": {},
     "output_type": "execute_result"
    }
   ],
   "source": [
    "np.std(agirlik_dizi ,ddof=1) / np.sqrt(len(agirlik_dizi))"
   ]
  }
 ],
 "metadata": {
  "kernelspec": {
   "display_name": "Python 3",
   "language": "python",
   "name": "python3"
  },
  "language_info": {
   "codemirror_mode": {
    "name": "ipython",
    "version": 3
   },
   "file_extension": ".py",
   "mimetype": "text/x-python",
   "name": "python",
   "nbconvert_exporter": "python",
   "pygments_lexer": "ipython3",
   "version": "3.7.4"
  }
 },
 "nbformat": 4,
 "nbformat_minor": 2
}
